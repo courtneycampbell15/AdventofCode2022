# Problem 1 - Calorie Counting
# --- Day 1: Calorie Counting ---
# Santa's reindeer typically eat regular reindeer food, but they need a lot of magical energy to deliver presents on Christmas. For that, their favorite snack is a special type of star fruit that only grows deep in the jungle. The Elves have brought you on their annual expedition to the grove where the fruit grows.
# To supply enough magical energy, the expedition needs to retrieve a minimum of fifty stars by December 25th. Although the Elves assure you that the grove has plenty of fruit, you decide to grab any fruit you see along the way, just in case.

# Collect stars by solving puzzles. Two puzzles will be made available on each day in the Advent calendar; the second puzzle is unlocked when you complete the first. Each puzzle grants one star. Good luck!

# The jungle must be too overgrown and difficult to navigate in vehicles or access from the air; the Elves' expedition traditionally goes on foot. As your boats approach land, the Elves begin taking inventory of their supplies. One important consideration is food - in particular, the number of Calories each Elf is carrying (your puzzle input).

# The Elves take turns writing down the number of Calories contained by the various meals, snacks, rations, etc. that they've brought with them, one item per line. Each Elf separates their own inventory from the previous Elf's inventory (if any) by a blank line.

# For example, suppose the Elves finish writing their items' Calories and end up with the following list:

# 1000
# 2000
# 3000

# 4000

# 5000
# 6000

# 7000
# 8000
# 9000

# 10000
# This list represents the Calories of the food carried by five Elves:

# The first Elf is carrying food with 1000, 2000, and 3000 Calories, a total of 6000 Calories.
# The second Elf is carrying one food item with 4000 Calories.
# The third Elf is carrying food with 5000 and 6000 Calories, a total of 11000 Calories.
# The fourth Elf is carrying food with 7000, 8000, and 9000 Calories, a total of 24000 Calories.
# The fifth Elf is carrying one food item with 10000 Calories.
# In case the Elves get hungry and need extra snacks, they need to know which Elf to ask: they'd like to know how many Calories are being carried by the Elf carrying the most Calories. In the example above, this is 24000 (carried by the fourth Elf).
# Find the Elf carrying the most Calories. How many total Calories is that Elf carrying?

# read in the file by lines
input_txt = open('day1_input.txt', 'r')
input_lines = input_txt.readlines()
# print(input_lines)

# list to hold everything for now
giantlist = [] 

# loop to decipher if we've got a number or a new line char
count = 0
for line in input_lines:
    count += 1
    # print(line)
    if line[0].isdigit():
        # remove the \n at the end of the string and convert it to a number and add to the list
        curr_int = int(line)
        giantlist.append(curr_int)
    else: 
        # it's a new line char, denoting that this is a separator between groups, so change it to underscore
        giantlist.append('_')
# giantlist.append('end')

# print(giantlist)

calorie_dict = dict()
index = 0
curr_total = 0
iter_count = 0

for item in giantlist:
    iter_count += 1    
    if item != '_':
        # print(item)
        curr_total = curr_total + item
    elif item == '_':
        # take the total and add to dict with the index and move forward
        calorie_dict.update( { index : curr_total } ) 
        # reset the total and update the index
        curr_total = 0
        index += 1
        continue

# print(calorie_dict)

# find the elf carrying the most calories by looking at just the totals and doing a lookup once finding the max
max = 0
for currval in calorie_dict.values():
  if currval > max:
    max = currval

# max is the max calories
print(max)

# Problem 2 - Find the top three Elves carrying the most Calories. How many Calories are those Elves carrying in total?
calorie_dict_vals = calorie_dict.values()
calorie_dict_vals_set = frozenset(calorie_dict_vals)
calorie_dict_vals_set = sorted(calorie_dict_vals_set, reverse=True)

top_three_total = calorie_dict_vals_set[0] + calorie_dict_vals_set[1] + calorie_dict_vals_set[2]

print(top_three_total)
